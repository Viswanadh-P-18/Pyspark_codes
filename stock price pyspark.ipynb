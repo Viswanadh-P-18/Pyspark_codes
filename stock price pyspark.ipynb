{
 "cells": [
  {
   "cell_type": "code",
   "execution_count": 1,
   "id": "26cfd724",
   "metadata": {},
   "outputs": [],
   "source": [
    "from pyspark.sql import SparkSession"
   ]
  },
  {
   "cell_type": "code",
   "execution_count": 2,
   "id": "f8612e36",
   "metadata": {},
   "outputs": [],
   "source": [
    "spark=SparkSession.builder.appName(\"LinearRegression\").getOrCreate()"
   ]
  },
  {
   "cell_type": "code",
   "execution_count": 3,
   "id": "f5839ac8",
   "metadata": {},
   "outputs": [],
   "source": [
    "df_pyspark=spark.read.csv(\"Google_train_data.csv\",header=True,inferSchema=True)"
   ]
  },
  {
   "cell_type": "code",
   "execution_count": 4,
   "id": "b6bc1026",
   "metadata": {},
   "outputs": [
    {
     "data": {
      "text/plain": [
       "[Row(Date='1/3/2012', Open=325.25, High=332.83, Low=324.97, Close='663.59', Volume='7,380,500'),\n",
       " Row(Date='1/4/2012', Open=331.27, High=333.87, Low=329.08, Close='666.45', Volume='5,749,400'),\n",
       " Row(Date='1/5/2012', Open=329.83, High=330.75, Low=326.89, Close='657.21', Volume='6,590,300'),\n",
       " Row(Date='1/6/2012', Open=328.34, High=328.77, Low=323.68, Close='648.24', Volume='5,405,900'),\n",
       " Row(Date='1/9/2012', Open=322.04, High=322.29, Low=309.46, Close='620.76', Volume='11,688,800'),\n",
       " Row(Date='1/10/2012', Open=313.7, High=315.72, Low=307.3, Close='621.43', Volume='8,824,000'),\n",
       " Row(Date='1/11/2012', Open=310.59, High=313.52, Low=309.4, Close='624.25', Volume='4,817,800'),\n",
       " Row(Date='1/12/2012', Open=314.43, High=315.26, Low=312.08, Close='627.92', Volume='3,764,400'),\n",
       " Row(Date='1/13/2012', Open=311.96, High=312.3, Low=309.37, Close='623.28', Volume='4,631,800'),\n",
       " Row(Date='1/17/2012', Open=314.81, High=314.81, Low=311.67, Close='626.86', Volume='3,832,800')]"
      ]
     },
     "execution_count": 4,
     "metadata": {},
     "output_type": "execute_result"
    }
   ],
   "source": [
    "df_pyspark.head(10)"
   ]
  },
  {
   "cell_type": "code",
   "execution_count": 5,
   "id": "febe1673",
   "metadata": {},
   "outputs": [
    {
     "data": {
      "text/plain": [
       "['Date', 'Open', 'High', 'Low', 'Close', 'Volume']"
      ]
     },
     "execution_count": 5,
     "metadata": {},
     "output_type": "execute_result"
    }
   ],
   "source": [
    "df_pyspark.columns"
   ]
  },
  {
   "cell_type": "code",
   "execution_count": 6,
   "id": "c9b2af18",
   "metadata": {},
   "outputs": [],
   "source": [
    "df_pyspark=df_pyspark.dropna()"
   ]
  },
  {
   "cell_type": "code",
   "execution_count": 7,
   "id": "be9a5dc8",
   "metadata": {},
   "outputs": [
    {
     "data": {
      "text/plain": [
       "1258"
      ]
     },
     "execution_count": 7,
     "metadata": {},
     "output_type": "execute_result"
    }
   ],
   "source": [
    "df_pyspark.count()"
   ]
  },
  {
   "cell_type": "code",
   "execution_count": 8,
   "id": "327f926d",
   "metadata": {},
   "outputs": [
    {
     "name": "stdout",
     "output_type": "stream",
     "text": [
      "+------+------+------+\n",
      "|  Open|  High| Close|\n",
      "+------+------+------+\n",
      "|325.25|332.83|663.59|\n",
      "|331.27|333.87|666.45|\n",
      "|329.83|330.75|657.21|\n",
      "|328.34|328.77|648.24|\n",
      "|322.04|322.29|620.76|\n",
      "| 313.7|315.72|621.43|\n",
      "|310.59|313.52|624.25|\n",
      "|314.43|315.26|627.92|\n",
      "|311.96| 312.3|623.28|\n",
      "|314.81|314.81|626.86|\n",
      "|312.14|315.82|631.18|\n",
      "| 319.3| 319.3|637.82|\n",
      "|294.16| 294.4|584.39|\n",
      "|291.91|293.23|583.92|\n",
      "|292.07|292.74|579.34|\n",
      "|287.68|288.27|567.93|\n",
      "|284.92|286.17|566.54|\n",
      "|284.32|289.08|578.39|\n",
      "|287.95|288.92|576.11|\n",
      "|290.41|290.91|578.52|\n",
      "+------+------+------+\n",
      "only showing top 20 rows\n",
      "\n"
     ]
    }
   ],
   "source": [
    "df_pyspark.select([\"Open\",\"High\",\"Close\"]).show()"
   ]
  },
  {
   "cell_type": "code",
   "execution_count": 9,
   "id": "eeb6c13b",
   "metadata": {},
   "outputs": [
    {
     "name": "stdout",
     "output_type": "stream",
     "text": [
      "+---------+------+------+------+------+----------+---------+\n",
      "|     Date|  Open|  High|   Low| Close|    Volume|Close + 2|\n",
      "+---------+------+------+------+------+----------+---------+\n",
      "| 1/3/2012|325.25|332.83|324.97|663.59| 7,380,500|   665.59|\n",
      "| 1/4/2012|331.27|333.87|329.08|666.45| 5,749,400|   668.45|\n",
      "| 1/5/2012|329.83|330.75|326.89|657.21| 6,590,300|   659.21|\n",
      "| 1/6/2012|328.34|328.77|323.68|648.24| 5,405,900|   650.24|\n",
      "| 1/9/2012|322.04|322.29|309.46|620.76|11,688,800|   622.76|\n",
      "|1/10/2012| 313.7|315.72| 307.3|621.43| 8,824,000|   623.43|\n",
      "|1/11/2012|310.59|313.52| 309.4|624.25| 4,817,800|   626.25|\n",
      "|1/12/2012|314.43|315.26|312.08|627.92| 3,764,400|   629.92|\n",
      "|1/13/2012|311.96| 312.3|309.37|623.28| 4,631,800|   625.28|\n",
      "|1/17/2012|314.81|314.81|311.67|626.86| 3,832,800|   628.86|\n",
      "|1/18/2012|312.14|315.82| 309.9|631.18| 5,544,000|   633.18|\n",
      "|1/19/2012| 319.3| 319.3|314.55|637.82|12,657,800|   639.82|\n",
      "|1/20/2012|294.16| 294.4|289.76|584.39|21,231,800|   586.39|\n",
      "|1/23/2012|291.91|293.23|290.49|583.92| 6,851,300|   585.92|\n",
      "|1/24/2012|292.07|292.74|287.92|579.34| 6,134,400|   581.34|\n",
      "|1/25/2012|287.68|288.27|282.13|567.93|10,012,700|   569.93|\n",
      "|1/26/2012|284.92|286.17|281.22|566.54| 6,476,500|   568.54|\n",
      "|1/27/2012|284.32|289.08| 283.6|578.39| 7,262,000|   580.39|\n",
      "|1/30/2012|287.95|288.92|285.63|576.11| 4,678,400|   578.11|\n",
      "|1/31/2012|290.41|290.91| 286.5|578.52| 4,300,700|   580.52|\n",
      "+---------+------+------+------+------+----------+---------+\n",
      "only showing top 20 rows\n",
      "\n"
     ]
    }
   ],
   "source": [
    "df_pyspark.withColumn(\"Close + 2\",df_pyspark[\"Close\"]+2).show()"
   ]
  },
  {
   "cell_type": "code",
   "execution_count": 10,
   "id": "34fe7466",
   "metadata": {},
   "outputs": [],
   "source": [
    "df_pyspark=df_pyspark.na.drop(how=\"all\")"
   ]
  },
  {
   "cell_type": "code",
   "execution_count": 11,
   "id": "d077ef93",
   "metadata": {},
   "outputs": [
    {
     "name": "stdout",
     "output_type": "stream",
     "text": [
      "+-------+---------+------------------+------------------+------------------+------------------+---------+\n",
      "|summary|     Date|              Open|              High|               Low|             Close|   Volume|\n",
      "+-------+---------+------------------+------------------+------------------+------------------+---------+\n",
      "|  count|     1258|              1258|              1258|              1258|              1258|     1258|\n",
      "|   mean|     NULL| 533.7098330683621| 537.8802225755155| 529.0074085850564| 674.7755265448224|     NULL|\n",
      "| stddev|     NULL|151.90444191569614|153.00881086661133|150.55280733768137|112.58269558319842|     NULL|\n",
      "|    min|1/10/2012|            279.12|            281.21|            277.22|          1,000.55|1,005,000|\n",
      "|    max| 9/9/2016|            816.68|            816.68|            805.14|            922.16|  989,100|\n",
      "+-------+---------+------------------+------------------+------------------+------------------+---------+\n",
      "\n"
     ]
    }
   ],
   "source": [
    "df_pyspark.describe().show()"
   ]
  },
  {
   "cell_type": "code",
   "execution_count": 12,
   "id": "90766632",
   "metadata": {},
   "outputs": [
    {
     "data": {
      "text/plain": [
       "[('Date', 'string'),\n",
       " ('Open', 'double'),\n",
       " ('High', 'double'),\n",
       " ('Low', 'double'),\n",
       " ('Close', 'string'),\n",
       " ('Volume', 'string')]"
      ]
     },
     "execution_count": 12,
     "metadata": {},
     "output_type": "execute_result"
    }
   ],
   "source": [
    "df_pyspark.dtypes"
   ]
  },
  {
   "cell_type": "code",
   "execution_count": 13,
   "id": "73d86b6d",
   "metadata": {},
   "outputs": [],
   "source": [
    "from pyspark.sql.functions import col"
   ]
  },
  {
   "cell_type": "code",
   "execution_count": 14,
   "id": "4438c6fd",
   "metadata": {},
   "outputs": [],
   "source": [
    "df_pyspark=df_pyspark.drop(\"Date\")"
   ]
  },
  {
   "cell_type": "code",
   "execution_count": 15,
   "id": "a4d2d12f",
   "metadata": {},
   "outputs": [],
   "source": [
    "df_pyspark = df_pyspark.select([col(c).cast(\"double\").alias(c) for c in df_pyspark.columns])"
   ]
  },
  {
   "cell_type": "code",
   "execution_count": 16,
   "id": "57f8f893",
   "metadata": {},
   "outputs": [
    {
     "data": {
      "text/plain": [
       "[('Open', 'double'),\n",
       " ('High', 'double'),\n",
       " ('Low', 'double'),\n",
       " ('Close', 'double'),\n",
       " ('Volume', 'double')]"
      ]
     },
     "execution_count": 16,
     "metadata": {},
     "output_type": "execute_result"
    }
   ],
   "source": [
    "df_pyspark.dtypes"
   ]
  },
  {
   "cell_type": "code",
   "execution_count": 17,
   "id": "256e348a",
   "metadata": {},
   "outputs": [
    {
     "name": "stdout",
     "output_type": "stream",
     "text": [
      "root\n",
      " |-- Open: double (nullable = true)\n",
      " |-- High: double (nullable = true)\n",
      " |-- Low: double (nullable = true)\n",
      " |-- Close: double (nullable = true)\n",
      " |-- Volume: double (nullable = true)\n",
      "\n"
     ]
    }
   ],
   "source": [
    "df_pyspark.printSchema()"
   ]
  },
  {
   "cell_type": "code",
   "execution_count": 18,
   "id": "c35825cd",
   "metadata": {},
   "outputs": [
    {
     "name": "stdout",
     "output_type": "stream",
     "text": [
      "+------+------+------+------+------+\n",
      "|  Open|  High|   Low| Close|Volume|\n",
      "+------+------+------+------+------+\n",
      "|325.25|332.83|324.97|663.59|  NULL|\n",
      "|331.27|333.87|329.08|666.45|  NULL|\n",
      "|329.83|330.75|326.89|657.21|  NULL|\n",
      "|328.34|328.77|323.68|648.24|  NULL|\n",
      "|322.04|322.29|309.46|620.76|  NULL|\n",
      "| 313.7|315.72| 307.3|621.43|  NULL|\n",
      "|310.59|313.52| 309.4|624.25|  NULL|\n",
      "|314.43|315.26|312.08|627.92|  NULL|\n",
      "|311.96| 312.3|309.37|623.28|  NULL|\n",
      "|314.81|314.81|311.67|626.86|  NULL|\n",
      "|312.14|315.82| 309.9|631.18|  NULL|\n",
      "| 319.3| 319.3|314.55|637.82|  NULL|\n",
      "|294.16| 294.4|289.76|584.39|  NULL|\n",
      "|291.91|293.23|290.49|583.92|  NULL|\n",
      "|292.07|292.74|287.92|579.34|  NULL|\n",
      "|287.68|288.27|282.13|567.93|  NULL|\n",
      "|284.92|286.17|281.22|566.54|  NULL|\n",
      "|284.32|289.08| 283.6|578.39|  NULL|\n",
      "|287.95|288.92|285.63|576.11|  NULL|\n",
      "|290.41|290.91| 286.5|578.52|  NULL|\n",
      "+------+------+------+------+------+\n",
      "only showing top 20 rows\n",
      "\n"
     ]
    }
   ],
   "source": [
    "df_pyspark.select([\"Open\",\"High\",\"Low\",\"Close\",\"Volume\"]).show()"
   ]
  },
  {
   "cell_type": "code",
   "execution_count": 19,
   "id": "b4277d93",
   "metadata": {},
   "outputs": [],
   "source": [
    "df_pyspark=df_pyspark.drop(\"Volume\")"
   ]
  },
  {
   "cell_type": "code",
   "execution_count": 20,
   "id": "b6a216a7",
   "metadata": {},
   "outputs": [
    {
     "name": "stdout",
     "output_type": "stream",
     "text": [
      "root\n",
      " |-- Open: double (nullable = true)\n",
      " |-- High: double (nullable = true)\n",
      " |-- Low: double (nullable = true)\n",
      " |-- Close: double (nullable = true)\n",
      "\n"
     ]
    }
   ],
   "source": [
    "df_pyspark.printSchema()"
   ]
  },
  {
   "cell_type": "code",
   "execution_count": 21,
   "id": "a99d2155",
   "metadata": {},
   "outputs": [
    {
     "name": "stdout",
     "output_type": "stream",
     "text": [
      "+------+------+------+------+\n",
      "|  Open|  High|   Low| Close|\n",
      "+------+------+------+------+\n",
      "|325.25|332.83|324.97|663.59|\n",
      "|331.27|333.87|329.08|666.45|\n",
      "|329.83|330.75|326.89|657.21|\n",
      "| 324.8|328.07|324.32|653.96|\n",
      "| 322.5|328.84|322.13| 658.2|\n",
      "|328.39|335.17|328.27|666.83|\n",
      "|333.89|335.87|330.81|665.71|\n",
      "|332.51|336.06|332.29|671.03|\n",
      "| 335.8|337.36| 334.6|675.29|\n",
      "|336.49|338.17|335.07|673.69|\n",
      "| 335.3|337.73|329.85|667.68|\n",
      "|332.44|339.03|332.11|675.33|\n",
      "|335.88|338.97|334.25|674.95|\n",
      "|336.54|338.95|335.78|676.77|\n",
      "|330.26|334.75|328.39|667.39|\n",
      "|331.26|337.54|331.13| 675.4|\n",
      "|337.42|343.21|336.81|686.13|\n",
      "|340.84|342.41|338.82|679.81|\n",
      "|340.72| 343.0|338.75|683.21|\n",
      "| 341.0|341.22|335.49|679.18|\n",
      "+------+------+------+------+\n",
      "only showing top 20 rows\n",
      "\n"
     ]
    }
   ],
   "source": [
    "df_pyspark.filter(\"Close >650\").show()"
   ]
  },
  {
   "cell_type": "code",
   "execution_count": 22,
   "id": "1a0da250",
   "metadata": {},
   "outputs": [
    {
     "name": "stderr",
     "output_type": "stream",
     "text": [
      "C:\\Users\\Hi\\anaconda3\\lib\\site-packages\\scipy\\__init__.py:155: UserWarning: A NumPy version >=1.18.5 and <1.25.0 is required for this version of SciPy (detected version 1.26.4\n",
      "  warnings.warn(f\"A NumPy version >={np_minversion} and <{np_maxversion}\"\n"
     ]
    }
   ],
   "source": [
    "from pyspark.ml.feature import VectorAssembler\n",
    "from pyspark.ml.regression import LinearRegression"
   ]
  },
  {
   "cell_type": "code",
   "execution_count": 23,
   "id": "d0038e2d",
   "metadata": {},
   "outputs": [
    {
     "data": {
      "text/plain": [
       "[Row(Open=325.25, High=332.83, Low=324.97, Close=663.59),\n",
       " Row(Open=331.27, High=333.87, Low=329.08, Close=666.45),\n",
       " Row(Open=329.83, High=330.75, Low=326.89, Close=657.21),\n",
       " Row(Open=328.34, High=328.77, Low=323.68, Close=648.24),\n",
       " Row(Open=322.04, High=322.29, Low=309.46, Close=620.76)]"
      ]
     },
     "execution_count": 23,
     "metadata": {},
     "output_type": "execute_result"
    }
   ],
   "source": [
    "df_pyspark.head(5)"
   ]
  },
  {
   "cell_type": "code",
   "execution_count": 24,
   "id": "6e367be7",
   "metadata": {},
   "outputs": [],
   "source": [
    "assembler=VectorAssembler(inputCols=[\"Open\",\"High\",\"Low\"],outputCol=\"features\")"
   ]
  },
  {
   "cell_type": "code",
   "execution_count": 25,
   "id": "d5792aaf",
   "metadata": {},
   "outputs": [
    {
     "data": {
      "text/plain": [
       "VectorAssembler_868aa31fa73a"
      ]
     },
     "execution_count": 25,
     "metadata": {},
     "output_type": "execute_result"
    }
   ],
   "source": [
    "assembler"
   ]
  },
  {
   "cell_type": "code",
   "execution_count": 26,
   "id": "17fca4cd",
   "metadata": {},
   "outputs": [
    {
     "data": {
      "text/plain": [
       "pyspark.ml.feature.VectorAssembler"
      ]
     },
     "execution_count": 26,
     "metadata": {},
     "output_type": "execute_result"
    }
   ],
   "source": [
    "type(assembler)"
   ]
  },
  {
   "cell_type": "code",
   "execution_count": 27,
   "id": "7bc957ea",
   "metadata": {},
   "outputs": [
    {
     "name": "stdout",
     "output_type": "stream",
     "text": [
      "root\n",
      " |-- Open: double (nullable = true)\n",
      " |-- High: double (nullable = true)\n",
      " |-- Low: double (nullable = true)\n",
      " |-- Close: double (nullable = true)\n",
      "\n"
     ]
    }
   ],
   "source": [
    "df_pyspark.printSchema()"
   ]
  },
  {
   "cell_type": "code",
   "execution_count": 28,
   "id": "3060b102",
   "metadata": {},
   "outputs": [],
   "source": [
    "df=df_pyspark.na.drop()"
   ]
  },
  {
   "cell_type": "code",
   "execution_count": 29,
   "id": "526c1acd",
   "metadata": {},
   "outputs": [],
   "source": [
    "assembler_df=assembler.transform(df)"
   ]
  },
  {
   "cell_type": "code",
   "execution_count": 30,
   "id": "00fa60dc",
   "metadata": {},
   "outputs": [
    {
     "data": {
      "text/plain": [
       "[('Open', 'double'),\n",
       " ('High', 'double'),\n",
       " ('Low', 'double'),\n",
       " ('Close', 'double'),\n",
       " ('features', 'vector')]"
      ]
     },
     "execution_count": 30,
     "metadata": {},
     "output_type": "execute_result"
    }
   ],
   "source": [
    "assembler_df.dtypes"
   ]
  },
  {
   "cell_type": "code",
   "execution_count": 31,
   "id": "6a975b50",
   "metadata": {},
   "outputs": [],
   "source": [
    "final_df=assembler_df.select([\"features\",\"close\"])"
   ]
  },
  {
   "cell_type": "code",
   "execution_count": 32,
   "id": "1e10f3a1",
   "metadata": {},
   "outputs": [
    {
     "data": {
      "text/plain": [
       "DataFrame[summary: string, close: string]"
      ]
     },
     "execution_count": 32,
     "metadata": {},
     "output_type": "execute_result"
    }
   ],
   "source": [
    "final_df.describe()"
   ]
  },
  {
   "cell_type": "code",
   "execution_count": 33,
   "id": "3aed382d",
   "metadata": {},
   "outputs": [
    {
     "name": "stdout",
     "output_type": "stream",
     "text": [
      "root\n",
      " |-- features: vector (nullable = true)\n",
      " |-- close: double (nullable = true)\n",
      "\n"
     ]
    }
   ],
   "source": [
    "final_df.printSchema()"
   ]
  },
  {
   "cell_type": "code",
   "execution_count": 34,
   "id": "70e8ce58",
   "metadata": {},
   "outputs": [
    {
     "name": "stdout",
     "output_type": "stream",
     "text": [
      "+--------------------+------+\n",
      "|            features| close|\n",
      "+--------------------+------+\n",
      "|[325.25,332.83,32...|663.59|\n",
      "|[331.27,333.87,32...|666.45|\n",
      "|[329.83,330.75,32...|657.21|\n",
      "|[328.34,328.77,32...|648.24|\n",
      "|[322.04,322.29,30...|620.76|\n",
      "|[313.7,315.72,307.3]|621.43|\n",
      "|[310.59,313.52,30...|624.25|\n",
      "|[314.43,315.26,31...|627.92|\n",
      "|[311.96,312.3,309...|623.28|\n",
      "|[314.81,314.81,31...|626.86|\n",
      "|[312.14,315.82,30...|631.18|\n",
      "|[319.3,319.3,314.55]|637.82|\n",
      "|[294.16,294.4,289...|584.39|\n",
      "|[291.91,293.23,29...|583.92|\n",
      "|[292.07,292.74,28...|579.34|\n",
      "|[287.68,288.27,28...|567.93|\n",
      "|[284.92,286.17,28...|566.54|\n",
      "|[284.32,289.08,28...|578.39|\n",
      "|[287.95,288.92,28...|576.11|\n",
      "|[290.41,290.91,28...|578.52|\n",
      "+--------------------+------+\n",
      "only showing top 20 rows\n",
      "\n"
     ]
    }
   ],
   "source": [
    "final_df.select([\"features\",\"close\"]).show()"
   ]
  },
  {
   "cell_type": "code",
   "execution_count": 35,
   "id": "7388c796",
   "metadata": {},
   "outputs": [],
   "source": [
    "lr=LinearRegression(featuresCol=\"features\",labelCol=\"close\")"
   ]
  },
  {
   "cell_type": "code",
   "execution_count": 36,
   "id": "1b5c18f8",
   "metadata": {},
   "outputs": [],
   "source": [
    "lr_model=lr.fit(final_df)"
   ]
  },
  {
   "cell_type": "code",
   "execution_count": 38,
   "id": "75ae3cd9",
   "metadata": {},
   "outputs": [],
   "source": [
    "predictions=lr_model.transform(final_df)"
   ]
  },
  {
   "cell_type": "code",
   "execution_count": 39,
   "id": "5eef4ffc",
   "metadata": {},
   "outputs": [
    {
     "name": "stdout",
     "output_type": "stream",
     "text": [
      "root\n",
      " |-- features: vector (nullable = true)\n",
      " |-- close: double (nullable = true)\n",
      " |-- prediction: double (nullable = false)\n",
      "\n"
     ]
    }
   ],
   "source": [
    "predictions.printSchema()"
   ]
  },
  {
   "cell_type": "code",
   "execution_count": 43,
   "id": "43bfddd7",
   "metadata": {},
   "outputs": [
    {
     "data": {
      "text/plain": [
       "DataFrame[close: double, prediction: double]"
      ]
     },
     "execution_count": 43,
     "metadata": {},
     "output_type": "execute_result"
    }
   ],
   "source": [
    "predictions.select([\"close\",\"prediction\"])"
   ]
  },
  {
   "cell_type": "code",
   "execution_count": 44,
   "id": "8bc40345",
   "metadata": {},
   "outputs": [],
   "source": [
    "predictions_df=predictions.toPandas()"
   ]
  },
  {
   "cell_type": "code",
   "execution_count": 45,
   "id": "8cc48e10",
   "metadata": {},
   "outputs": [
    {
     "data": {
      "text/html": [
       "<div>\n",
       "<style scoped>\n",
       "    .dataframe tbody tr th:only-of-type {\n",
       "        vertical-align: middle;\n",
       "    }\n",
       "\n",
       "    .dataframe tbody tr th {\n",
       "        vertical-align: top;\n",
       "    }\n",
       "\n",
       "    .dataframe thead th {\n",
       "        text-align: right;\n",
       "    }\n",
       "</style>\n",
       "<table border=\"1\" class=\"dataframe\">\n",
       "  <thead>\n",
       "    <tr style=\"text-align: right;\">\n",
       "      <th></th>\n",
       "      <th>features</th>\n",
       "      <th>close</th>\n",
       "      <th>prediction</th>\n",
       "    </tr>\n",
       "  </thead>\n",
       "  <tbody>\n",
       "    <tr>\n",
       "      <th>0</th>\n",
       "      <td>[325.25, 332.83, 324.97]</td>\n",
       "      <td>663.59</td>\n",
       "      <td>653.367222</td>\n",
       "    </tr>\n",
       "    <tr>\n",
       "      <th>1</th>\n",
       "      <td>[331.27, 333.87, 329.08]</td>\n",
       "      <td>666.45</td>\n",
       "      <td>659.403491</td>\n",
       "    </tr>\n",
       "    <tr>\n",
       "      <th>2</th>\n",
       "      <td>[329.83, 330.75, 326.89]</td>\n",
       "      <td>657.21</td>\n",
       "      <td>660.539770</td>\n",
       "    </tr>\n",
       "    <tr>\n",
       "      <th>3</th>\n",
       "      <td>[328.34, 328.77, 323.68]</td>\n",
       "      <td>648.24</td>\n",
       "      <td>655.052631</td>\n",
       "    </tr>\n",
       "    <tr>\n",
       "      <th>4</th>\n",
       "      <td>[322.04, 322.29, 309.46]</td>\n",
       "      <td>620.76</td>\n",
       "      <td>624.708817</td>\n",
       "    </tr>\n",
       "    <tr>\n",
       "      <th>5</th>\n",
       "      <td>[313.7, 315.72, 307.3]</td>\n",
       "      <td>621.43</td>\n",
       "      <td>642.422633</td>\n",
       "    </tr>\n",
       "    <tr>\n",
       "      <th>6</th>\n",
       "      <td>[310.59, 313.52, 309.4]</td>\n",
       "      <td>624.25</td>\n",
       "      <td>659.368985</td>\n",
       "    </tr>\n",
       "    <tr>\n",
       "      <th>7</th>\n",
       "      <td>[314.43, 315.26, 312.08]</td>\n",
       "      <td>627.92</td>\n",
       "      <td>660.764640</td>\n",
       "    </tr>\n",
       "    <tr>\n",
       "      <th>8</th>\n",
       "      <td>[311.96, 312.3, 309.37]</td>\n",
       "      <td>623.28</td>\n",
       "      <td>660.719736</td>\n",
       "    </tr>\n",
       "    <tr>\n",
       "      <th>9</th>\n",
       "      <td>[314.81, 314.81, 311.67]</td>\n",
       "      <td>626.86</td>\n",
       "      <td>659.901113</td>\n",
       "    </tr>\n",
       "  </tbody>\n",
       "</table>\n",
       "</div>"
      ],
      "text/plain": [
       "                   features   close  prediction\n",
       "0  [325.25, 332.83, 324.97]  663.59  653.367222\n",
       "1  [331.27, 333.87, 329.08]  666.45  659.403491\n",
       "2  [329.83, 330.75, 326.89]  657.21  660.539770\n",
       "3  [328.34, 328.77, 323.68]  648.24  655.052631\n",
       "4  [322.04, 322.29, 309.46]  620.76  624.708817\n",
       "5    [313.7, 315.72, 307.3]  621.43  642.422633\n",
       "6   [310.59, 313.52, 309.4]  624.25  659.368985\n",
       "7  [314.43, 315.26, 312.08]  627.92  660.764640\n",
       "8   [311.96, 312.3, 309.37]  623.28  660.719736\n",
       "9  [314.81, 314.81, 311.67]  626.86  659.901113"
      ]
     },
     "execution_count": 45,
     "metadata": {},
     "output_type": "execute_result"
    }
   ],
   "source": [
    "predictions_df.head(10)"
   ]
  },
  {
   "cell_type": "code",
   "execution_count": 47,
   "id": "11c57dde",
   "metadata": {},
   "outputs": [],
   "source": [
    "predictions_df=predictions_df[[\"close\",\"prediction\"]]"
   ]
  },
  {
   "cell_type": "code",
   "execution_count": 48,
   "id": "a98397c5",
   "metadata": {},
   "outputs": [
    {
     "data": {
      "text/plain": [
       "<AxesSubplot:>"
      ]
     },
     "execution_count": 48,
     "metadata": {},
     "output_type": "execute_result"
    },
    {
     "data": {
      "image/png": "[encoded data removed]",
      "text/plain": [
       "<Figure size 640x480 with 1 Axes>"
      ]
     },
     "metadata": {},
     "output_type": "display_data"
    }
   ],
   "source": [
    "predictions_df.plot(kind=\"line\")"
   ]
  },
  {
   "cell_type": "code",
   "execution_count": null,
   "id": "b8a984a8",
   "metadata": {},
   "outputs": [],
   "source": []
  }
 ],
 "metadata": {
  "kernelspec": {
   "display_name": "Python 3 (ipykernel)",
   "language": "python",
   "name": "python3"
  },
  "language_info": {
   "codemirror_mode": {
    "name": "ipython",
    "version": 3
   },
   "file_extension": ".py",
   "mimetype": "text/x-python",
   "name": "python",
   "nbconvert_exporter": "python",
   "pygments_lexer": "ipython3",
   "version": "3.9.13"
  }
 },
 "nbformat": 4,
 "nbformat_minor": 5
}
