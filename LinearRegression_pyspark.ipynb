{
 "cells": [
  {
   "cell_type": "markdown",
   "id": "0bb7305e",
   "metadata": {},
   "source": [
    "# GOLD PRICE PREDICTION USING SPARK"
   ]
  },
  {
   "cell_type": "code",
   "execution_count": 1,
   "id": "e19a7e00",
   "metadata": {},
   "outputs": [],
   "source": [
    "import pyspark"
   ]
  },
  {
   "cell_type": "code",
   "execution_count": 2,
   "id": "11b7eb70",
   "metadata": {},
   "outputs": [],
   "source": [
    "from pyspark.sql import SparkSession"
   ]
  },
  {
   "cell_type": "code",
   "execution_count": 3,
   "id": "a9713521",
   "metadata": {},
   "outputs": [],
   "source": [
    "spark=SparkSession.builder.appName('Practice').getOrCreate()"
   ]
  },
  {
   "cell_type": "code",
   "execution_count": 4,
   "id": "48614d83",
   "metadata": {},
   "outputs": [],
   "source": [
    "df_pyspark=spark.read.option('header','true').csv('gld_price_data.csv')"
   ]
  },
  {
   "cell_type": "code",
   "execution_count": 5,
   "id": "c9fc9c93",
   "metadata": {},
   "outputs": [
    {
     "name": "stdout",
     "output_type": "stream",
     "text": [
      "root\n",
      " |-- Date: string (nullable = true)\n",
      " |-- SPX: string (nullable = true)\n",
      " |-- GLD: string (nullable = true)\n",
      " |-- USO: string (nullable = true)\n",
      " |-- SLV: string (nullable = true)\n",
      " |-- EUR/USD: string (nullable = true)\n",
      "\n"
     ]
    }
   ],
   "source": [
    "df_pyspark.printSchema()"
   ]
  },
  {
   "cell_type": "code",
   "execution_count": 6,
   "id": "ffc1a8fe",
   "metadata": {},
   "outputs": [
    {
     "data": {
      "text/plain": [
       "[Row(Date='01-02-2008', SPX='1447.160034', GLD='84.860001', USO='78.470001', SLV='15.18', EUR/USD='1.471692'),\n",
       " Row(Date='01-03-2008', SPX='1447.160034', GLD='85.57', USO='78.370003', SLV='15.285', EUR/USD='1.474491'),\n",
       " Row(Date='01-04-2008', SPX='1411.630005', GLD='85.129997', USO='77.309998', SLV='15.167', EUR/USD='1.475492')]"
      ]
     },
     "execution_count": 6,
     "metadata": {},
     "output_type": "execute_result"
    }
   ],
   "source": [
    "df_pyspark.head(3)"
   ]
  },
  {
   "cell_type": "code",
   "execution_count": 7,
   "id": "8a862f4a",
   "metadata": {},
   "outputs": [
    {
     "name": "stdout",
     "output_type": "stream",
     "text": [
      "+-------+----------+-----------------+------------------+------------------+-----------------+------------------+\n",
      "|summary|      Date|              SPX|               GLD|               USO|              SLV|           EUR/USD|\n",
      "+-------+----------+-----------------+------------------+------------------+-----------------+------------------+\n",
      "|  count|      2290|             2290|              2290|              2290|             2290|              2290|\n",
      "|   mean|      NULL|1654.315776431877|122.73287507292564|  31.8422208567685|20.08499658515281|1.2836530519650649|\n",
      "| stddev|      NULL|519.1115402032956|23.283345747117536|19.523517029775025|7.092566374075404|0.1315472161211381|\n",
      "|    min|01-02-2008|      1002.630005|             100.5|                10|            10.06|          1.039047|\n",
      "|    max| 9/30/2015|       998.039978|         99.910004|         99.800003|             9.98|          1.598798|\n",
      "+-------+----------+-----------------+------------------+------------------+-----------------+------------------+\n",
      "\n"
     ]
    }
   ],
   "source": [
    "df_pyspark.describe().show()"
   ]
  },
  {
   "cell_type": "code",
   "execution_count": 8,
   "id": "a4b3a023",
   "metadata": {},
   "outputs": [],
   "source": [
    "df_pyspark=df_pyspark.drop(\"Date\")"
   ]
  },
  {
   "cell_type": "code",
   "execution_count": 9,
   "id": "9fa28ae8",
   "metadata": {},
   "outputs": [
    {
     "name": "stdout",
     "output_type": "stream",
     "text": [
      "+-----------+\n",
      "|        SPX|\n",
      "+-----------+\n",
      "|1447.160034|\n",
      "|1447.160034|\n",
      "|1411.630005|\n",
      "|1416.180054|\n",
      "|1390.189941|\n",
      "|1409.130005|\n",
      "|1420.329956|\n",
      "| 1401.02002|\n",
      "|    1416.25|\n",
      "|1380.949951|\n",
      "|1373.199951|\n",
      "|    1333.25|\n",
      "|1325.189941|\n",
      "|     1310.5|\n",
      "|1338.599976|\n",
      "|1352.069946|\n",
      "|1330.609985|\n",
      "|1353.959961|\n",
      "|1362.300049|\n",
      "|1355.810059|\n",
      "+-----------+\n",
      "only showing top 20 rows\n",
      "\n"
     ]
    }
   ],
   "source": [
    "df_pyspark.select(\"SPX\").show()"
   ]
  },
  {
   "cell_type": "code",
   "execution_count": 10,
   "id": "c0d6e26c",
   "metadata": {},
   "outputs": [
    {
     "data": {
      "text/plain": [
       "DataFrame[SPX: string, GLD: string, USO: string, SLV: string, EUR/USD: string]"
      ]
     },
     "execution_count": 10,
     "metadata": {},
     "output_type": "execute_result"
    }
   ],
   "source": [
    "df_pyspark.na.drop(how=\"all\")"
   ]
  },
  {
   "cell_type": "code",
   "execution_count": 11,
   "id": "096cba6d",
   "metadata": {},
   "outputs": [],
   "source": [
    "from pyspark.sql.functions import col "
   ]
  },
  {
   "cell_type": "code",
   "execution_count": 12,
   "id": "0117110f",
   "metadata": {},
   "outputs": [],
   "source": [
    "df_pyspark = df_pyspark.select([col(c).cast(\"double\").alias(c) for c in df_pyspark.columns])"
   ]
  },
  {
   "cell_type": "code",
   "execution_count": 13,
   "id": "d2d1d75c",
   "metadata": {},
   "outputs": [
    {
     "name": "stdout",
     "output_type": "stream",
     "text": [
      "root\n",
      " |-- SPX: double (nullable = true)\n",
      " |-- GLD: double (nullable = true)\n",
      " |-- USO: double (nullable = true)\n",
      " |-- SLV: double (nullable = true)\n",
      " |-- EUR/USD: double (nullable = true)\n",
      "\n"
     ]
    }
   ],
   "source": [
    "df_pyspark.printSchema()"
   ]
  },
  {
   "cell_type": "code",
   "execution_count": 14,
   "id": "2e164e9e",
   "metadata": {},
   "outputs": [
    {
     "name": "stderr",
     "output_type": "stream",
     "text": [
      "C:\\Users\\Hi\\anaconda3\\lib\\site-packages\\scipy\\__init__.py:155: UserWarning: A NumPy version >=1.18.5 and <1.25.0 is required for this version of SciPy (detected version 1.26.4\n",
      "  warnings.warn(f\"A NumPy version >={np_minversion} and <{np_maxversion}\"\n"
     ]
    }
   ],
   "source": [
    "from pyspark.ml.feature import VectorAssembler\n",
    "from pyspark.ml.regression import LinearRegression"
   ]
  },
  {
   "cell_type": "code",
   "execution_count": 15,
   "id": "70a0e0da",
   "metadata": {},
   "outputs": [],
   "source": [
    "assembler=VectorAssembler(inputCols=[\"SPX\",\"SLV\",\"USO\"],outputCol=\"features\")"
   ]
  },
  {
   "cell_type": "code",
   "execution_count": 16,
   "id": "80d7ccb0",
   "metadata": {},
   "outputs": [],
   "source": [
    "assembler_df=assembler.transform(df_pyspark)"
   ]
  },
  {
   "cell_type": "code",
   "execution_count": 17,
   "id": "0436af12",
   "metadata": {},
   "outputs": [],
   "source": [
    "final_df=assembler_df.select(\"features\",\"GLD\")"
   ]
  },
  {
   "cell_type": "code",
   "execution_count": 18,
   "id": "f39bbb72",
   "metadata": {},
   "outputs": [],
   "source": [
    "lr=LinearRegression(featuresCol=\"features\",labelCol=\"GLD\")"
   ]
  },
  {
   "cell_type": "code",
   "execution_count": 19,
   "id": "9fdc18c4",
   "metadata": {},
   "outputs": [],
   "source": [
    "lr_model=lr.fit(final_df)"
   ]
  },
  {
   "cell_type": "code",
   "execution_count": 20,
   "id": "1748c2e3",
   "metadata": {},
   "outputs": [
    {
     "name": "stdout",
     "output_type": "stream",
     "text": [
      "[0.0073023149208191526,3.12879478505057,-0.2978291424549379]\n"
     ]
    }
   ],
   "source": [
    "print(lr_model.coefficients)"
   ]
  },
  {
   "cell_type": "code",
   "execution_count": 22,
   "id": "3bccecd0",
   "metadata": {},
   "outputs": [
    {
     "name": "stdout",
     "output_type": "stream",
     "text": [
      "57.2942490531881\n"
     ]
    }
   ],
   "source": [
    "print(lr_model.intercept)"
   ]
  },
  {
   "cell_type": "code",
   "execution_count": 23,
   "id": "7264d64e",
   "metadata": {},
   "outputs": [],
   "source": [
    "predictions=lr_model.transform(final_df)"
   ]
  },
  {
   "cell_type": "code",
   "execution_count": 27,
   "id": "12b74ce4",
   "metadata": {},
   "outputs": [
    {
     "name": "stdout",
     "output_type": "stream",
     "text": [
      "root\n",
      " |-- features: vector (nullable = true)\n",
      " |-- GLD: double (nullable = true)\n",
      " |-- prediction: double (nullable = false)\n",
      "\n"
     ]
    }
   ],
   "source": [
    "predictions.printSchema()"
   ]
  },
  {
   "cell_type": "code",
   "execution_count": 31,
   "id": "e979ebbb",
   "metadata": {},
   "outputs": [
    {
     "name": "stdout",
     "output_type": "stream",
     "text": [
      "+---------+-----------------+\n",
      "|      GLD|       prediction|\n",
      "+---------+-----------------+\n",
      "|84.860001|91.98631909307898|\n",
      "|    85.57| 92.3446248640965|\n",
      "|85.129997|92.03167599870466|\n",
      "|84.769997|92.24728943609719|\n",
      "|86.779999| 93.5708805215992|\n",
      "|86.550003|93.73141220832434|\n",
      "|    88.25|95.87220962383823|\n",
      "|88.580002|96.05824137814362|\n",
      "|89.540001|96.45912096193715|\n",
      "|87.989998|95.24371242172937|\n",
      "|86.699997|94.90091782009615|\n",
      "|     86.5|95.05052436726496|\n",
      "|87.419998|95.81908971637188|\n",
      "|88.169998|95.60618053511246|\n",
      "|87.889999|96.11783931262694|\n",
      "|90.080002|97.04182038705581|\n",
      "|90.300003|96.58698478194758|\n",
      "|    91.75|97.41490378142579|\n",
      "|91.150002|97.23811429381078|\n",
      "|92.059998|97.60209666247883|\n",
      "+---------+-----------------+\n",
      "only showing top 20 rows\n",
      "\n"
     ]
    }
   ],
   "source": [
    "predictions.select([\"GLD\",\"prediction\"]).show()"
   ]
  },
  {
   "cell_type": "code",
   "execution_count": 33,
   "id": "1bced88b",
   "metadata": {},
   "outputs": [],
   "source": [
    "import pandas\n",
    "import matplotlib.pyplot as plt"
   ]
  },
  {
   "cell_type": "code",
   "execution_count": 34,
   "id": "761f7fa7",
   "metadata": {},
   "outputs": [],
   "source": [
    "pandas_df=predictions.select([\"GLD\",\"prediction\"]).toPandas()"
   ]
  },
  {
   "cell_type": "code",
   "execution_count": 35,
   "id": "48aba196",
   "metadata": {},
   "outputs": [
    {
     "data": {
      "text/plain": [
       "<AxesSubplot:>"
      ]
     },
     "execution_count": 35,
     "metadata": {},
     "output_type": "execute_result"
    },
    {
     "data": {
      "image/png": "[encoded data removed]",
      "text/plain": [
       "<Figure size 640x480 with 1 Axes>"
      ]
     },
     "metadata": {},
     "output_type": "display_data"
    }
   ],
   "source": [
    "pandas_df.plot(kind=\"line\")"
   ]
  },
  {
   "cell_type": "code",
   "execution_count": null,
   "id": "7c6fc80a",
   "metadata": {},
   "outputs": [],
   "source": []
  }
 ],
 "metadata": {
  "kernelspec": {
   "display_name": "Python 3 (ipykernel)",
   "language": "python",
   "name": "python3"
  },
  "language_info": {
   "codemirror_mode": {
    "name": "ipython",
    "version": 3
   },
   "file_extension": ".py",
   "mimetype": "text/x-python",
   "name": "python",
   "nbconvert_exporter": "python",
   "pygments_lexer": "ipython3",
   "version": "3.9.13"
  }
 },
 "nbformat": 4,
 "nbformat_minor": 5
}
